# Imports
import pandas as pd
from src.data_loader import load_streaming_history, load_playlist_data, load_search_data
from src.visualizations import *

# Load Dummy Data for Testing
df_stream = pd.read_json("data/StreamingHistory_dummy.json")
df_playlist = pd.read_json("data/Playlists_dummy.json")
df_search = pd.read_json("data/SearchQueries_dummy.json")

# Data Preprocessing
df_stream['played_at'] = pd.to_datetime(df_stream['played_at'])
df_stream['date'] = df_stream['played_at'].dt.date
df_stream['hour'] = df_stream['played_at'].dt.hour
df_stream['day_name'] = df_stream['played_at'].dt.day_name()

# Run Visualizations
plot_top_artists(df_stream)
plot_top_tracks(df_stream)
plot_listening_heatmap(df_stream)
plot_artist_wordcloud(df_stream)
plot_playlist_summary(df_playlist)
plot_search_queries(df_search)
search_trend_over_time(df_search)
