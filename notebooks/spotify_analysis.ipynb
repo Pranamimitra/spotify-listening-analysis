import pandas as pd
from src.cleaning import clean_streaming_data, clean_playlist_data, clean_search_data
from src.visuals import *

# Streaming
df_stream = pd.read_json('data/StreamingHistory0.json')
df_stream = clean_streaming_data(df_stream)
plot_top_artists(df_stream)
plot_top_tracks(df_stream)

# Playlists
df_playlist = pd.read_json('data/Playlists.json')
df_playlist = clean_playlist_data(df_playlist)
plot_playlist_summary(df_playlist)

# Search History
df_search = pd.read_json('data/SearchQueries.json')
df_search = clean_search_data(df_search)
plot_search_queries(df_search)
plot_search_hourly_pattern(df_search)
