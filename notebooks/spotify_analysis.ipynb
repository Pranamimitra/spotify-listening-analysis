{
  "nbformat": 4,
  "nbformat_minor": 0,
  "metadata": {
    "colab": {
      "provenance": []
    },
    "kernelspec": {
      "name": "python3",
      "display_name": "Python 3"
    },
    "language_info": {
      "name": "python"
    }
  },
  "cells": [
    {
      "cell_type": "code",
      "execution_count": null,
      "metadata": {
        "id": "4JxgW9JNIUID"
      },
      "outputs": [],
      "source": [
        "# Imports\n",
        "import pandas as pd\n",
        "from src.data_loader import load_streaming_history, load_playlist_data, load_search_data\n",
        "from src.visualizations import *\n",
        "\n",
        "# Load Dummy Data for Testing\n",
        "df_stream = pd.read_json(\"data/StreamingHistory_dummy.json\")\n",
        "df_playlist = pd.read_json(\"data/Playlists_dummy.json\")\n",
        "df_search = pd.read_json(\"data/SearchQueries_dummy.json\")\n",
        "\n",
        "# Data Preprocessing\n",
        "df_stream['played_at'] = pd.to_datetime(df_stream['played_at'])\n",
        "df_stream['date'] = df_stream['played_at'].dt.date\n",
        "df_stream['hour'] = df_stream['played_at'].dt.hour\n",
        "df_stream['day_name'] = df_stream['played_at'].dt.day_name()\n",
        "\n",
        "# Run Visualizations\n",
        "plot_top_artists(df_stream)\n",
        "plot_top_tracks(df_stream)\n",
        "plot_listening_heatmap(df_stream)\n",
        "plot_artist_wordcloud(df_stream)\n",
        "plot_playlist_summary(df_playlist)\n",
        "plot_search_queries(df_search)\n",
        "search_trend_over_time(df_search)"
      ]
    }
  ]
}